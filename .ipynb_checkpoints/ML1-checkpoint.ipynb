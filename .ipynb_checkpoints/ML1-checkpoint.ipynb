{
 "cells": [
  {
   "cell_type": "markdown",
   "id": "2ffb36e2",
   "metadata": {},
   "source": [
    "## Hold Out"
   ]
  },
  {
   "cell_type": "code",
   "execution_count": 1,
   "id": "6b686f99",
   "metadata": {},
   "outputs": [],
   "source": [
    "import numpy as np\n",
    "import matplotlib.pyplot as plt\n",
    "from sklearn.model_selection import train_test_split"
   ]
  },
  {
   "cell_type": "code",
   "execution_count": 2,
   "id": "ceb9aed1",
   "metadata": {},
   "outputs": [],
   "source": [
    "X = np.random.rand(100)\n",
    "y = range(100)"
   ]
  },
  {
   "cell_type": "code",
   "execution_count": 3,
   "id": "ec92d790",
   "metadata": {},
   "outputs": [
    {
     "name": "stdout",
     "output_type": "stream",
     "text": [
      "60 40\n",
      "60 40\n"
     ]
    }
   ],
   "source": [
    "X_train,X_test,y_train,y_test = train_test_split(X,y,test_size=0.4)\n",
    "print(len(X_train),len(X_test))\n",
    "print(len(y_train),len(y_test))"
   ]
  },
  {
   "cell_type": "code",
   "execution_count": 4,
   "id": "2125550a",
   "metadata": {},
   "outputs": [
    {
     "name": "stdout",
     "output_type": "stream",
     "text": [
      "Training set:\n",
      "[0.06308012 0.13681168 0.44280737 0.12325884 0.36194916 0.51636536\n",
      " 0.7141296  0.62105512 0.26108096 0.86673445 0.61639839 0.83929133\n",
      " 0.27057605 0.96774581 0.45826737 0.81276663 0.59768852 0.63872093\n",
      " 0.48821882 0.30219932 0.55382606 0.4278912  0.30690938 0.25909808\n",
      " 0.16255816 0.25121028 0.19313108 0.56675805 0.58822412 0.17486322\n",
      " 0.49022207 0.64332233 0.88164452 0.20115252 0.42580027 0.18392007\n",
      " 0.04654988 0.33085544 0.51780413 0.15792212 0.5931902  0.75523921\n",
      " 0.80288466 0.02571442 0.74485535 0.11916297 0.2489401  0.46262812\n",
      " 0.73723208 0.2720539  0.67923456 0.73475855 0.85733425 0.02619631\n",
      " 0.45265482 0.67775    0.56554296 0.39173349 0.05636666 0.90611016]\n"
     ]
    },
    {
     "data": {
      "image/png": "[encoded data removed]",
      "text/plain": [
       "<Figure size 432x288 with 1 Axes>"
      ]
     },
     "metadata": {
      "needs_background": "light"
     },
     "output_type": "display_data"
    }
   ],
   "source": [
    "print(\"Training set:\")\n",
    "print(X_train)\n",
    "plt.scatter(range(60),X_train)\n",
    "plt.show()"
   ]
  },
  {
   "cell_type": "code",
   "execution_count": 5,
   "id": "2fac31b6",
   "metadata": {},
   "outputs": [
    {
     "name": "stdout",
     "output_type": "stream",
     "text": [
      "test set:\n",
      "[6, 49, 36, 21, 91, 38, 67, 97, 41, 52, 56, 93, 99, 10, 43, 89, 64, 72, 92, 98, 31, 96, 0, 80, 82, 74, 78, 70, 53, 17, 24, 45, 75, 18, 23, 16, 54, 65, 26, 61]\n"
     ]
    },
    {
     "data": {
      "image/png": "[encoded data removed]",
      "text/plain": [
       "<Figure size 432x288 with 1 Axes>"
      ]
     },
     "metadata": {
      "needs_background": "light"
     },
     "output_type": "display_data"
    }
   ],
   "source": [
    "print(\"test set:\")\n",
    "print(y_test)\n",
    "plt.scatter(range(40),X_test)\n",
    "plt.show()"
   ]
  },
  {
   "cell_type": "markdown",
   "id": "752ccb93",
   "metadata": {},
   "source": [
    "## K Fold"
   ]
  },
  {
   "cell_type": "code",
   "execution_count": 6,
   "id": "40068a2d",
   "metadata": {},
   "outputs": [],
   "source": [
    "from sklearn import datasets\n",
    "from sklearn.tree import DecisionTreeClassifier\n",
    "from sklearn.model_selection import KFold, cross_val_score"
   ]
  },
  {
   "cell_type": "code",
   "execution_count": 7,
   "id": "c3ebba8e",
   "metadata": {},
   "outputs": [],
   "source": [
    "X, y = datasets.load_iris(return_X_y=True)"
   ]
  },
  {
   "cell_type": "code",
   "execution_count": 8,
   "id": "e97d16db",
   "metadata": {},
   "outputs": [],
   "source": [
    "clf = DecisionTreeClassifier()"
   ]
  },
  {
   "cell_type": "code",
   "execution_count": 9,
   "id": "8b9c5156",
   "metadata": {},
   "outputs": [],
   "source": [
    "k_folds = KFold(n_splits=5)"
   ]
  },
  {
   "cell_type": "code",
   "execution_count": 10,
   "id": "581814dd",
   "metadata": {},
   "outputs": [],
   "source": [
    "scores_kcv = cross_val_score(clf,X,y,cv=k_folds)"
   ]
  },
  {
   "cell_type": "code",
   "execution_count": 11,
   "id": "94a38501",
   "metadata": {},
   "outputs": [
    {
     "name": "stdout",
     "output_type": "stream",
     "text": [
      "Cross Validation Scores:  [1.         0.96666667 0.9        0.93333333 0.73333333]\n",
      "Average CV Score:  0.9066666666666666\n",
      "Number of CV Scores used in Average:  5\n"
     ]
    }
   ],
   "source": [
    "print(\"Cross Validation Scores: \", scores_kcv)\n",
    "print(\"Average CV Score: \", scores_kcv.mean())\n",
    "print(\"Number of CV Scores used in Average: \", len(scores_kcv))"
   ]
  },
  {
   "cell_type": "markdown",
   "id": "d49c417b",
   "metadata": {},
   "source": [
    "## Stratified K Fold"
   ]
  },
  {
   "cell_type": "code",
   "execution_count": 12,
   "id": "f1177cf3",
   "metadata": {},
   "outputs": [],
   "source": [
    "from sklearn.model_selection import StratifiedKFold"
   ]
  },
  {
   "cell_type": "code",
   "execution_count": 13,
   "id": "71ea9589",
   "metadata": {},
   "outputs": [],
   "source": [
    "X, y = datasets.load_iris(return_X_y=True)"
   ]
  },
  {
   "cell_type": "code",
   "execution_count": 14,
   "id": "3fd5f4aa",
   "metadata": {},
   "outputs": [],
   "source": [
    "clf = DecisionTreeClassifier()"
   ]
  },
  {
   "cell_type": "code",
   "execution_count": 15,
   "id": "854eec3d",
   "metadata": {},
   "outputs": [],
   "source": [
    "sk_folds = StratifiedKFold(n_splits=5)"
   ]
  },
  {
   "cell_type": "code",
   "execution_count": 16,
   "id": "ec895a8a",
   "metadata": {},
   "outputs": [],
   "source": [
    "scores_strat = cross_val_score(clf,X,y,cv=sk_folds)"
   ]
  },
  {
   "cell_type": "code",
   "execution_count": 17,
   "id": "f614cbe0",
   "metadata": {},
   "outputs": [
    {
     "name": "stdout",
     "output_type": "stream",
     "text": [
      "Cross Validation Scores:  [0.96666667 0.96666667 0.9        1.         1.        ]\n",
      "Average CV Score:  0.9666666666666668\n",
      "Number of CV Scores used in Average:  5\n"
     ]
    }
   ],
   "source": [
    "print(\"Cross Validation Scores: \", scores_strat)\n",
    "print(\"Average CV Score: \", scores_strat.mean())\n",
    "print(\"Number of CV Scores used in Average: \", len(scores_strat))"
   ]
  },
  {
   "cell_type": "markdown",
   "id": "a9d79e9c",
   "metadata": {},
   "source": [
    "## Leave One Out"
   ]
  },
  {
   "cell_type": "code",
   "execution_count": 18,
   "id": "104950c5",
   "metadata": {},
   "outputs": [],
   "source": [
    "from sklearn.model_selection import LeaveOneOut"
   ]
  },
  {
   "cell_type": "code",
   "execution_count": 19,
   "id": "7b6102e2",
   "metadata": {},
   "outputs": [],
   "source": [
    "X, y = datasets.load_iris(return_X_y=True)"
   ]
  },
  {
   "cell_type": "code",
   "execution_count": 20,
   "id": "76c70a3a",
   "metadata": {},
   "outputs": [],
   "source": [
    "clf = DecisionTreeClassifier()"
   ]
  },
  {
   "cell_type": "code",
   "execution_count": 21,
   "id": "c7c748e4",
   "metadata": {},
   "outputs": [],
   "source": [
    "loo = LeaveOneOut()"
   ]
  },
  {
   "cell_type": "code",
   "execution_count": 22,
   "id": "27c9425f",
   "metadata": {},
   "outputs": [],
   "source": [
    "scores_loo = cross_val_score(clf,X,y,cv=loo)"
   ]
  },
  {
   "cell_type": "code",
   "execution_count": 23,
   "id": "fa0be637",
   "metadata": {},
   "outputs": [
    {
     "name": "stdout",
     "output_type": "stream",
     "text": [
      "Cross Validation Scores:  [1. 1. 1. 1. 1. 1. 1. 1. 1. 1. 1. 1. 1. 1. 1. 1. 1. 1. 1. 1. 1. 1. 1. 1.\n",
      " 1. 1. 1. 1. 1. 1. 1. 1. 1. 1. 1. 1. 1. 1. 1. 1. 1. 1. 1. 1. 1. 1. 1. 1.\n",
      " 1. 1. 1. 1. 1. 1. 1. 1. 1. 1. 1. 1. 1. 1. 1. 1. 1. 1. 1. 1. 1. 1. 0. 1.\n",
      " 1. 1. 1. 1. 1. 0. 1. 1. 1. 1. 1. 0. 1. 1. 1. 1. 1. 1. 1. 1. 1. 1. 1. 1.\n",
      " 1. 1. 1. 1. 1. 1. 1. 1. 1. 1. 0. 1. 1. 1. 1. 1. 1. 1. 1. 1. 1. 1. 1. 0.\n",
      " 1. 1. 1. 1. 1. 1. 1. 1. 1. 0. 1. 1. 1. 0. 1. 1. 1. 1. 0. 1. 1. 1. 1. 1.\n",
      " 1. 1. 1. 1. 1. 1.]\n",
      "Average CV Score:  0.9466666666666667\n",
      "Number of CV Scores used in Average:  150\n"
     ]
    }
   ],
   "source": [
    "print(\"Cross Validation Scores: \", scores_loo)\n",
    "print(\"Average CV Score: \", scores_loo.mean())\n",
    "print(\"Number of CV Scores used in Average: \", len(scores_loo))"
   ]
  },
  {
   "cell_type": "markdown",
   "id": "3a4b2b04",
   "metadata": {},
   "source": [
    "## Leave P Out"
   ]
  },
  {
   "cell_type": "code",
   "execution_count": 24,
   "id": "f6ec0892",
   "metadata": {},
   "outputs": [],
   "source": [
    "from sklearn.model_selection import LeavePOut"
   ]
  },
  {
   "cell_type": "code",
   "execution_count": 25,
   "id": "daa89801",
   "metadata": {},
   "outputs": [],
   "source": [
    "X, y = datasets.load_iris(return_X_y=True)"
   ]
  },
  {
   "cell_type": "code",
   "execution_count": 26,
   "id": "9c502049",
   "metadata": {},
   "outputs": [],
   "source": [
    "clf = DecisionTreeClassifier()"
   ]
  },
  {
   "cell_type": "code",
   "execution_count": 27,
   "id": "e23ec1d7",
   "metadata": {},
   "outputs": [],
   "source": [
    "lpo = LeavePOut(p=2)"
   ]
  },
  {
   "cell_type": "code",
   "execution_count": 28,
   "id": "a5d0ba0f",
   "metadata": {},
   "outputs": [],
   "source": [
    "scores_lpo = cross_val_score(clf,X,y,cv=lpo)"
   ]
  },
  {
   "cell_type": "code",
   "execution_count": 29,
   "id": "28a3555f",
   "metadata": {},
   "outputs": [
    {
     "name": "stdout",
     "output_type": "stream",
     "text": [
      "Cross Validation Scores:  [1. 1. 1. ... 1. 1. 1.]\n",
      "Average CV Score:  0.9489038031319911\n",
      "Number of CV Scores used in Average:  11175\n"
     ]
    }
   ],
   "source": [
    "print(\"Cross Validation Scores: \", scores_lpo)\n",
    "print(\"Average CV Score: \", scores_lpo.mean())\n",
    "print(\"Number of CV Scores used in Average: \", len(scores_lpo))"
   ]
  },
  {
   "cell_type": "markdown",
   "id": "49e5ebe1",
   "metadata": {},
   "source": [
    "## Shuffle Split"
   ]
  },
  {
   "cell_type": "code",
   "execution_count": 30,
   "id": "1ed0c070",
   "metadata": {},
   "outputs": [],
   "source": [
    "from sklearn.model_selection import ShuffleSplit"
   ]
  },
  {
   "cell_type": "code",
   "execution_count": 31,
   "id": "0814b06f",
   "metadata": {},
   "outputs": [],
   "source": [
    "X, y = datasets.load_iris(return_X_y=True)"
   ]
  },
  {
   "cell_type": "code",
   "execution_count": 32,
   "id": "549fe059",
   "metadata": {},
   "outputs": [],
   "source": [
    "clf = DecisionTreeClassifier()"
   ]
  },
  {
   "cell_type": "code",
   "execution_count": 33,
   "id": "7428fd9b",
   "metadata": {},
   "outputs": [],
   "source": [
    "ss = ShuffleSplit(test_size=0.3,n_splits=5)"
   ]
  },
  {
   "cell_type": "code",
   "execution_count": 34,
   "id": "abeb80a3",
   "metadata": {},
   "outputs": [],
   "source": [
    "scores_shuf = cross_val_score(clf,X,y,cv=ss)"
   ]
  },
  {
   "cell_type": "code",
   "execution_count": 35,
   "id": "58bea3bf",
   "metadata": {},
   "outputs": [
    {
     "name": "stdout",
     "output_type": "stream",
     "text": [
      "Cross Validation Scores:  [0.95555556 1.         0.95555556 1.         0.93333333]\n",
      "Average CV Score:  0.968888888888889\n",
      "Number of CV Scores used in Average:  5\n"
     ]
    }
   ],
   "source": [
    "print(\"Cross Validation Scores: \", scores_shuf)\n",
    "print(\"Average CV Score: \", scores_shuf.mean())\n",
    "print(\"Number of CV Scores used in Average: \", len(scores_shuf))"
   ]
  },
  {
   "cell_type": "markdown",
   "id": "d15e5573",
   "metadata": {},
   "source": [
    "## Comparison"
   ]
  },
  {
   "cell_type": "code",
   "execution_count": 36,
   "id": "10bca239",
   "metadata": {},
   "outputs": [],
   "source": [
    "from texttable import Texttable"
   ]
  },
  {
   "cell_type": "code",
   "execution_count": 37,
   "id": "5a931f80",
   "metadata": {},
   "outputs": [],
   "source": [
    "my_table = Texttable()"
   ]
  },
  {
   "cell_type": "code",
   "execution_count": 38,
   "id": "04efb8e9",
   "metadata": {},
   "outputs": [
    {
     "data": {
      "text/plain": [
       "<texttable.Texttable at 0x1f912732670>"
      ]
     },
     "execution_count": 38,
     "metadata": {},
     "output_type": "execute_result"
    }
   ],
   "source": [
    "my_table.add_rows(\n",
    " [[\"Algorithm\", \"Score\", \"Mean\", \"Number of CV Scores used in Average\"],\n",
    " [\"K Fold\",scores_kcv, scores_kcv.mean(), len(scores_kcv)],\n",
    " [\"Stratified K Fold\", scores_strat, scores_strat.mean(), len(scores_strat)],\n",
    " [\"Leave-One-Out (LOO)\", scores_loo, scores_loo.mean(), len(scores_loo)],\n",
    " [\"Leave-P-Out (LPO)\", scores_lpo, scores_lpo.mean(), len(scores_lpo)],\n",
    " [\"Shuffle \", scores_shuf, scores_shuf.mean(), len(scores_shuf)],\n",
    " ]\n",
    ")"
   ]
  },
  {
   "cell_type": "code",
   "execution_count": 39,
   "id": "0ddac6d3",
   "metadata": {},
   "outputs": [
    {
     "name": "stdout",
     "output_type": "stream",
     "text": [
      "+---------------------+------------------------+-------+-----------------------+\n",
      "|      Algorithm      |         Score          | Mean  |  Number of CV Scores  |\n",
      "|                     |                        |       |    used in Average    |\n",
      "+=====================+========================+=======+=======================+\n",
      "| K Fold              | [1.         0.96666667 | 0.907 | 5                     |\n",
      "|                     | 0.9        0.93333333  |       |                       |\n",
      "|                     | 0.73333333]            |       |                       |\n",
      "+---------------------+------------------------+-------+-----------------------+\n",
      "| Stratified K Fold   | [0.96666667 0.96666667 | 0.967 | 5                     |\n",
      "|                     | 0.9        1.          |       |                       |\n",
      "|                     | 1.        ]            |       |                       |\n",
      "+---------------------+------------------------+-------+-----------------------+\n",
      "| Leave-One-Out (LOO) | [1. 1. 1. 1. 1. 1. 1.  | 0.947 | 150                   |\n",
      "|                     | 1. 1. 1. 1. 1. 1. 1.   |       |                       |\n",
      "|                     | 1. 1. 1. 1. 1. 1. 1.   |       |                       |\n",
      "|                     | 1. 1. 1.               |       |                       |\n",
      "|                     |  1. 1. 1. 1. 1. 1. 1.  |       |                       |\n",
      "|                     | 1. 1. 1. 1. 1. 1. 1.   |       |                       |\n",
      "|                     | 1. 1. 1. 1. 1. 1. 1.   |       |                       |\n",
      "|                     | 1. 1. 1.               |       |                       |\n",
      "|                     |  1. 1. 1. 1. 1. 1. 1.  |       |                       |\n",
      "|                     | 1. 1. 1. 1. 1. 1. 1.   |       |                       |\n",
      "|                     | 1. 1. 1. 1. 1. 1. 1.   |       |                       |\n",
      "|                     | 1. 0. 1.               |       |                       |\n",
      "|                     |  1. 1. 1. 1. 1. 0. 1.  |       |                       |\n",
      "|                     | 1. 1. 1. 1. 0. 1. 1.   |       |                       |\n",
      "|                     | 1. 1. 1. 1. 1. 1. 1.   |       |                       |\n",
      "|                     | 1. 1. 1.               |       |                       |\n",
      "|                     |  1. 1. 1. 1. 1. 1. 1.  |       |                       |\n",
      "|                     | 1. 1. 1. 0. 1. 1. 1.   |       |                       |\n",
      "|                     | 1. 1. 1. 1. 1. 1. 1.   |       |                       |\n",
      "|                     | 1. 1. 0.               |       |                       |\n",
      "|                     |  1. 1. 1. 1. 1. 1. 1.  |       |                       |\n",
      "|                     | 1. 1. 0. 1. 1. 1. 0.   |       |                       |\n",
      "|                     | 1. 1. 1. 1. 0. 1. 1.   |       |                       |\n",
      "|                     | 1. 1. 1.               |       |                       |\n",
      "|                     |  1. 1. 1. 1. 1. 1.]    |       |                       |\n",
      "+---------------------+------------------------+-------+-----------------------+\n",
      "| Leave-P-Out (LPO)   | [1. 1. 1. ... 1. 1.    | 0.949 | 11175                 |\n",
      "|                     | 1.]                    |       |                       |\n",
      "+---------------------+------------------------+-------+-----------------------+\n",
      "| Shuffle             | [0.95555556 1.         | 0.969 | 5                     |\n",
      "|                     | 0.95555556 1.          |       |                       |\n",
      "|                     | 0.93333333]            |       |                       |\n",
      "+---------------------+------------------------+-------+-----------------------+\n"
     ]
    }
   ],
   "source": [
    "print(my_table.draw())"
   ]
  },
  {
   "cell_type": "code",
   "execution_count": null,
   "id": "748076bc",
   "metadata": {},
   "outputs": [],
   "source": []
  }
 ],
 "metadata": {
  "kernelspec": {
   "display_name": "Python 3",
   "language": "python",
   "name": "python3"
  },
  "language_info": {
   "codemirror_mode": {
    "name": "ipython",
    "version": 3
   },
   "file_extension": ".py",
   "mimetype": "text/x-python",
   "name": "python",
   "nbconvert_exporter": "python",
   "pygments_lexer": "ipython3",
   "version": "3.8.8"
  }
 },
 "nbformat": 4,
 "nbformat_minor": 5
}
