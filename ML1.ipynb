{
 "cells": [
  {
   "cell_type": "markdown",
   "id": "2ffb36e2",
   "metadata": {},
   "source": [
    "## Hold Out"
   ]
  },
  {
   "cell_type": "code",
   "execution_count": 1,
   "id": "6b686f99",
   "metadata": {},
   "outputs": [],
   "source": [
    "import numpy as np\n",
    "import matplotlib.pyplot as plt\n",
    "from sklearn.model_selection import train_test_split"
   ]
  },
  {
   "cell_type": "code",
   "execution_count": 2,
   "id": "ceb9aed1",
   "metadata": {},
   "outputs": [],
   "source": [
    "X = np.random.rand(100)\n",
    "y = range(100)"
   ]
  },
  {
   "cell_type": "code",
   "execution_count": 3,
   "id": "ec92d790",
   "metadata": {},
   "outputs": [
    {
     "name": "stdout",
     "output_type": "stream",
     "text": [
      "60 40\n",
      "60 40\n"
     ]
    }
   ],
   "source": [
    "X_train,X_test,y_train,y_test = train_test_split(X,y,test_size=0.4)\n",
    "print(len(X_train),len(X_test))\n",
    "print(len(y_train),len(y_test))"
   ]
  },
  {
   "cell_type": "code",
   "execution_count": 4,
   "id": "2125550a",
   "metadata": {},
   "outputs": [
    {
     "name": "stdout",
     "output_type": "stream",
     "text": [
      "Training set:\n",
      "[0.97115707 0.16432309 0.68657613 0.94066019 0.60894812 0.78201796\n",
      " 0.61998515 0.03863994 0.33031426 0.64079895 0.90235212 0.23744557\n",
      " 0.68064403 0.52868386 0.41526564 0.92820281 0.44634561 0.66465097\n",
      " 0.37887532 0.04422135 0.28323671 0.09570256 0.53100235 0.94828272\n",
      " 0.65306104 0.2170232  0.30732937 0.12209064 0.03102537 0.24668983\n",
      " 0.41336431 0.37003205 0.2163972  0.37461139 0.83329838 0.08205919\n",
      " 0.55317172 0.87277489 0.68138507 0.9806169  0.40852839 0.20443351\n",
      " 0.49668145 0.28825132 0.08566363 0.94268926 0.67001286 0.29808528\n",
      " 0.58150934 0.54201691 0.01215792 0.87205791 0.5907313  0.45148034\n",
      " 0.49178655 0.53362141 0.64913348 0.33926297 0.08454886 0.77538369]\n"
     ]
    },
    {
     "data": {
      "image/png": "[encoded data removed]",
      "text/plain": [
       "<Figure size 432x288 with 1 Axes>"
      ]
     },
     "metadata": {
      "needs_background": "light"
     },
     "output_type": "display_data"
    }
   ],
   "source": [
    "print(\"Training set:\")\n",
    "print(X_train)\n",
    "plt.scatter(range(60),X_train)\n",
    "plt.show()"
   ]
  },
  {
   "cell_type": "code",
   "execution_count": 5,
   "id": "2fac31b6",
   "metadata": {},
   "outputs": [
    {
     "name": "stdout",
     "output_type": "stream",
     "text": [
      "test set:\n",
      "[57, 1, 47, 4, 77, 65, 82, 97, 85, 23, 2, 10, 60, 16, 14, 37, 87, 71, 33, 44, 89, 43, 69, 95, 11, 91, 20, 6, 96, 81, 79, 92, 28, 41, 52, 64, 84, 88, 73, 24]\n"
     ]
    },
    {
     "data": {
      "image/png": "[encoded data removed]",
      "text/plain": [
       "<Figure size 432x288 with 1 Axes>"
      ]
     },
     "metadata": {
      "needs_background": "light"
     },
     "output_type": "display_data"
    }
   ],
   "source": [
    "print(\"test set:\")\n",
    "print(y_test)\n",
    "plt.scatter(range(40),X_test)\n",
    "plt.show()"
   ]
  },
  {
   "cell_type": "markdown",
   "id": "752ccb93",
   "metadata": {},
   "source": [
    "## K Fold"
   ]
  },
  {
   "cell_type": "code",
   "execution_count": 6,
   "id": "40068a2d",
   "metadata": {},
   "outputs": [],
   "source": [
    "from sklearn import datasets\n",
    "from sklearn.tree import DecisionTreeClassifier\n",
    "from sklearn.model_selection import KFold, cross_val_score"
   ]
  },
  {
   "cell_type": "code",
   "execution_count": 7,
   "id": "c3ebba8e",
   "metadata": {},
   "outputs": [],
   "source": [
    "X, y = datasets.load_iris(return_X_y=True)"
   ]
  },
  {
   "cell_type": "code",
   "execution_count": 8,
   "id": "e97d16db",
   "metadata": {},
   "outputs": [],
   "source": [
    "clf = DecisionTreeClassifier()"
   ]
  },
  {
   "cell_type": "code",
   "execution_count": 9,
   "id": "8b9c5156",
   "metadata": {},
   "outputs": [],
   "source": [
    "k_folds = KFold(n_splits=5)"
   ]
  },
  {
   "cell_type": "code",
   "execution_count": 10,
   "id": "581814dd",
   "metadata": {},
   "outputs": [],
   "source": [
    "scores_kcv = cross_val_score(clf,X,y,cv=k_folds)"
   ]
  },
  {
   "cell_type": "code",
   "execution_count": 11,
   "id": "94a38501",
   "metadata": {},
   "outputs": [
    {
     "name": "stdout",
     "output_type": "stream",
     "text": [
      "Cross Validation Scores:  [1.         0.96666667 0.83333333 0.93333333 0.8       ]\n",
      "Average CV Score:  0.9066666666666666\n",
      "Number of CV Scores used in Average:  5\n"
     ]
    }
   ],
   "source": [
    "print(\"Cross Validation Scores: \", scores_kcv)\n",
    "print(\"Average CV Score: \", scores_kcv.mean())\n",
    "print(\"Number of CV Scores used in Average: \", len(scores_kcv))"
   ]
  },
  {
   "cell_type": "markdown",
   "id": "d49c417b",
   "metadata": {},
   "source": [
    "## Stratified K Fold"
   ]
  },
  {
   "cell_type": "code",
   "execution_count": 12,
   "id": "f1177cf3",
   "metadata": {},
   "outputs": [],
   "source": [
    "from sklearn.model_selection import StratifiedKFold"
   ]
  },
  {
   "cell_type": "code",
   "execution_count": 13,
   "id": "71ea9589",
   "metadata": {},
   "outputs": [],
   "source": [
    "X, y = datasets.load_iris(return_X_y=True)"
   ]
  },
  {
   "cell_type": "code",
   "execution_count": 14,
   "id": "3fd5f4aa",
   "metadata": {},
   "outputs": [],
   "source": [
    "clf = DecisionTreeClassifier()"
   ]
  },
  {
   "cell_type": "code",
   "execution_count": 15,
   "id": "854eec3d",
   "metadata": {},
   "outputs": [],
   "source": [
    "sk_folds = StratifiedKFold(n_splits=5)"
   ]
  },
  {
   "cell_type": "code",
   "execution_count": 16,
   "id": "ec895a8a",
   "metadata": {},
   "outputs": [],
   "source": [
    "scores_strat = cross_val_score(clf,X,y,cv=sk_folds)"
   ]
  },
  {
   "cell_type": "code",
   "execution_count": 17,
   "id": "f614cbe0",
   "metadata": {},
   "outputs": [
    {
     "name": "stdout",
     "output_type": "stream",
     "text": [
      "Cross Validation Scores:  [0.96666667 0.96666667 0.9        0.96666667 1.        ]\n",
      "Average CV Score:  0.9600000000000002\n",
      "Number of CV Scores used in Average:  5\n"
     ]
    }
   ],
   "source": [
    "print(\"Cross Validation Scores: \", scores_strat)\n",
    "print(\"Average CV Score: \", scores_strat.mean())\n",
    "print(\"Number of CV Scores used in Average: \", len(scores_strat))"
   ]
  },
  {
   "cell_type": "markdown",
   "id": "a9d79e9c",
   "metadata": {},
   "source": [
    "## Leave One Out"
   ]
  },
  {
   "cell_type": "code",
   "execution_count": 18,
   "id": "104950c5",
   "metadata": {},
   "outputs": [],
   "source": [
    "from sklearn.model_selection import LeaveOneOut"
   ]
  },
  {
   "cell_type": "code",
   "execution_count": 19,
   "id": "7b6102e2",
   "metadata": {},
   "outputs": [],
   "source": [
    "X, y = datasets.load_iris(return_X_y=True)"
   ]
  },
  {
   "cell_type": "code",
   "execution_count": 20,
   "id": "76c70a3a",
   "metadata": {},
   "outputs": [],
   "source": [
    "clf = DecisionTreeClassifier()"
   ]
  },
  {
   "cell_type": "code",
   "execution_count": 21,
   "id": "c7c748e4",
   "metadata": {},
   "outputs": [],
   "source": [
    "loo = LeaveOneOut()"
   ]
  },
  {
   "cell_type": "code",
   "execution_count": 22,
   "id": "27c9425f",
   "metadata": {},
   "outputs": [],
   "source": [
    "scores_loo = cross_val_score(clf,X,y,cv=loo)"
   ]
  },
  {
   "cell_type": "code",
   "execution_count": 23,
   "id": "fa0be637",
   "metadata": {},
   "outputs": [
    {
     "name": "stdout",
     "output_type": "stream",
     "text": [
      "Cross Validation Scores:  [1. 1. 1. 1. 1. 1. 1. 1. 1. 1. 1. 1. 1. 1. 1. 1. 1. 1. 1. 1. 1. 1. 1. 1.\n",
      " 1. 1. 1. 1. 1. 1. 1. 1. 1. 1. 1. 1. 1. 1. 1. 1. 1. 1. 1. 1. 1. 1. 1. 1.\n",
      " 1. 1. 1. 1. 1. 1. 1. 1. 1. 0. 1. 1. 1. 1. 1. 1. 1. 1. 1. 1. 1. 1. 0. 1.\n",
      " 1. 1. 1. 1. 1. 0. 1. 1. 1. 1. 1. 0. 1. 1. 1. 1. 1. 1. 1. 1. 1. 1. 1. 1.\n",
      " 1. 1. 1. 1. 1. 1. 1. 1. 1. 1. 0. 1. 1. 1. 1. 1. 1. 1. 1. 1. 1. 1. 1. 0.\n",
      " 1. 1. 1. 1. 1. 1. 1. 1. 1. 0. 1. 1. 1. 0. 1. 1. 1. 1. 0. 1. 1. 1. 1. 1.\n",
      " 1. 1. 1. 1. 1. 1.]\n",
      "Average CV Score:  0.94\n",
      "Number of CV Scores used in Average:  150\n"
     ]
    }
   ],
   "source": [
    "print(\"Cross Validation Scores: \", scores_loo)\n",
    "print(\"Average CV Score: \", scores_loo.mean())\n",
    "print(\"Number of CV Scores used in Average: \", len(scores_loo))"
   ]
  },
  {
   "cell_type": "markdown",
   "id": "3a4b2b04",
   "metadata": {},
   "source": [
    "## Leave P Out"
   ]
  },
  {
   "cell_type": "code",
   "execution_count": 24,
   "id": "f6ec0892",
   "metadata": {},
   "outputs": [],
   "source": [
    "from sklearn.model_selection import LeavePOut"
   ]
  },
  {
   "cell_type": "code",
   "execution_count": 25,
   "id": "daa89801",
   "metadata": {},
   "outputs": [],
   "source": [
    "X, y = datasets.load_iris(return_X_y=True)"
   ]
  },
  {
   "cell_type": "code",
   "execution_count": 26,
   "id": "9c502049",
   "metadata": {},
   "outputs": [],
   "source": [
    "clf = DecisionTreeClassifier()"
   ]
  },
  {
   "cell_type": "code",
   "execution_count": 27,
   "id": "e23ec1d7",
   "metadata": {},
   "outputs": [],
   "source": [
    "lpo = LeavePOut(p=2)"
   ]
  },
  {
   "cell_type": "code",
   "execution_count": 28,
   "id": "a5d0ba0f",
   "metadata": {},
   "outputs": [],
   "source": [
    "scores_lpo = cross_val_score(clf,X,y,cv=lpo)"
   ]
  },
  {
   "cell_type": "code",
   "execution_count": 29,
   "id": "28a3555f",
   "metadata": {},
   "outputs": [
    {
     "name": "stdout",
     "output_type": "stream",
     "text": [
      "Cross Validation Scores:  [1. 1. 1. ... 1. 1. 1.]\n",
      "Average CV Score:  0.9484116331096197\n",
      "Number of CV Scores used in Average:  11175\n"
     ]
    }
   ],
   "source": [
    "print(\"Cross Validation Scores: \", scores_lpo)\n",
    "print(\"Average CV Score: \", scores_lpo.mean())\n",
    "print(\"Number of CV Scores used in Average: \", len(scores_lpo))"
   ]
  },
  {
   "cell_type": "markdown",
   "id": "49e5ebe1",
   "metadata": {},
   "source": [
    "## Shuffle Split"
   ]
  },
  {
   "cell_type": "code",
   "execution_count": 30,
   "id": "1ed0c070",
   "metadata": {},
   "outputs": [],
   "source": [
    "from sklearn.model_selection import ShuffleSplit"
   ]
  },
  {
   "cell_type": "code",
   "execution_count": 31,
   "id": "0814b06f",
   "metadata": {},
   "outputs": [],
   "source": [
    "X, y = datasets.load_iris(return_X_y=True)"
   ]
  },
  {
   "cell_type": "code",
   "execution_count": 32,
   "id": "549fe059",
   "metadata": {},
   "outputs": [],
   "source": [
    "clf = DecisionTreeClassifier()"
   ]
  },
  {
   "cell_type": "code",
   "execution_count": 33,
   "id": "7428fd9b",
   "metadata": {},
   "outputs": [],
   "source": [
    "ss = ShuffleSplit(test_size=0.3,n_splits=5)"
   ]
  },
  {
   "cell_type": "code",
   "execution_count": 34,
   "id": "abeb80a3",
   "metadata": {},
   "outputs": [],
   "source": [
    "scores_shuf = cross_val_score(clf,X,y,cv=ss)"
   ]
  },
  {
   "cell_type": "code",
   "execution_count": 35,
   "id": "58bea3bf",
   "metadata": {},
   "outputs": [
    {
     "name": "stdout",
     "output_type": "stream",
     "text": [
      "Cross Validation Scores:  [0.95555556 0.93333333 0.97777778 0.97777778 0.95555556]\n",
      "Average CV Score:  0.96\n",
      "Number of CV Scores used in Average:  5\n"
     ]
    }
   ],
   "source": [
    "print(\"Cross Validation Scores: \", scores_shuf)\n",
    "print(\"Average CV Score: \", scores_shuf.mean())\n",
    "print(\"Number of CV Scores used in Average: \", len(scores_shuf))"
   ]
  },
  {
   "cell_type": "markdown",
   "id": "d15e5573",
   "metadata": {},
   "source": [
    "## Comparison"
   ]
  },
  {
   "cell_type": "code",
   "execution_count": 36,
   "id": "10bca239",
   "metadata": {},
   "outputs": [],
   "source": [
    "from texttable import Texttable"
   ]
  },
  {
   "cell_type": "code",
   "execution_count": 37,
   "id": "5a931f80",
   "metadata": {},
   "outputs": [],
   "source": [
    "my_table = Texttable()"
   ]
  },
  {
   "cell_type": "code",
   "execution_count": 38,
   "id": "04efb8e9",
   "metadata": {},
   "outputs": [
    {
     "data": {
      "text/plain": [
       "<texttable.Texttable at 0x2026ce816d0>"
      ]
     },
     "execution_count": 38,
     "metadata": {},
     "output_type": "execute_result"
    }
   ],
   "source": [
    "my_table.add_rows([\n",
    "    [\"Algorithm\", \"Score\", \"Mean\", \"Number of CV Scores used in Average\"],\n",
    "    [\"K Fold\",scores_kcv, scores_kcv.mean(), len(scores_kcv)],\n",
    "    [\"Stratified K Fold\", scores_strat, scores_strat.mean(), len(scores_strat)],\n",
    "    [\"Leave-One-Out (LOO)\", scores_loo, scores_loo.mean(), len(scores_loo)],\n",
    "    [\"Leave-P-Out (LPO)\", scores_lpo, scores_lpo.mean(), len(scores_lpo)],\n",
    "    [\"Shuffle \", scores_shuf, scores_shuf.mean(), len(scores_shuf)],\n",
    "])"
   ]
  },
  {
   "cell_type": "code",
   "execution_count": 40,
   "id": "0ddac6d3",
   "metadata": {},
   "outputs": [
    {
     "name": "stdout",
     "output_type": "stream",
     "text": [
      "+---------------------+------------------------+-------+-----------------------+\n",
      "|      Algorithm      |         Score          | Mean  |  Number of CV Scores  |\n",
      "|                     |                        |       |    used in Average    |\n",
      "+=====================+========================+=======+=======================+\n",
      "| K Fold              | [1.         0.96666667 | 0.907 | 5                     |\n",
      "|                     | 0.83333333 0.93333333  |       |                       |\n",
      "|                     | 0.8       ]            |       |                       |\n",
      "+---------------------+------------------------+-------+-----------------------+\n",
      "| Stratified K Fold   | [0.96666667 0.96666667 | 0.960 | 5                     |\n",
      "|                     | 0.9        0.96666667  |       |                       |\n",
      "|                     | 1.        ]            |       |                       |\n",
      "+---------------------+------------------------+-------+-----------------------+\n",
      "| Leave-One-Out (LOO) | [1. 1. 1. 1. 1. 1. 1.  | 0.940 | 150                   |\n",
      "|                     | 1. 1. 1. 1. 1. 1. 1.   |       |                       |\n",
      "|                     | 1. 1. 1. 1. 1. 1. 1.   |       |                       |\n",
      "|                     | 1. 1. 1.               |       |                       |\n",
      "|                     |  1. 1. 1. 1. 1. 1. 1.  |       |                       |\n",
      "|                     | 1. 1. 1. 1. 1. 1. 1.   |       |                       |\n",
      "|                     | 1. 1. 1. 1. 1. 1. 1.   |       |                       |\n",
      "|                     | 1. 1. 1.               |       |                       |\n",
      "|                     |  1. 1. 1. 1. 1. 1. 1.  |       |                       |\n",
      "|                     | 1. 1. 0. 1. 1. 1. 1.   |       |                       |\n",
      "|                     | 1. 1. 1. 1. 1. 1. 1.   |       |                       |\n",
      "|                     | 1. 0. 1.               |       |                       |\n",
      "|                     |  1. 1. 1. 1. 1. 0. 1.  |       |                       |\n",
      "|                     | 1. 1. 1. 1. 0. 1. 1.   |       |                       |\n",
      "|                     | 1. 1. 1. 1. 1. 1. 1.   |       |                       |\n",
      "|                     | 1. 1. 1.               |       |                       |\n",
      "|                     |  1. 1. 1. 1. 1. 1. 1.  |       |                       |\n",
      "|                     | 1. 1. 1. 0. 1. 1. 1.   |       |                       |\n",
      "|                     | 1. 1. 1. 1. 1. 1. 1.   |       |                       |\n",
      "|                     | 1. 1. 0.               |       |                       |\n",
      "|                     |  1. 1. 1. 1. 1. 1. 1.  |       |                       |\n",
      "|                     | 1. 1. 0. 1. 1. 1. 0.   |       |                       |\n",
      "|                     | 1. 1. 1. 1. 0. 1. 1.   |       |                       |\n",
      "|                     | 1. 1. 1.               |       |                       |\n",
      "|                     |  1. 1. 1. 1. 1. 1.]    |       |                       |\n",
      "+---------------------+------------------------+-------+-----------------------+\n",
      "| Leave-P-Out (LPO)   | [1. 1. 1. ... 1. 1.    | 0.948 | 11175                 |\n",
      "|                     | 1.]                    |       |                       |\n",
      "+---------------------+------------------------+-------+-----------------------+\n",
      "| Shuffle             | [0.95555556 0.93333333 | 0.960 | 5                     |\n",
      "|                     | 0.97777778 0.97777778  |       |                       |\n",
      "|                     | 0.95555556]            |       |                       |\n",
      "+---------------------+------------------------+-------+-----------------------+\n"
     ]
    }
   ],
   "source": [
    "print(my_table.draw())"
   ]
  },
  {
   "cell_type": "code",
   "execution_count": null,
   "id": "748076bc",
   "metadata": {},
   "outputs": [],
   "source": []
  }
 ],
 "metadata": {
  "kernelspec": {
   "display_name": "Python 3",
   "language": "python",
   "name": "python3"
  },
  "language_info": {
   "codemirror_mode": {
    "name": "ipython",
    "version": 3
   },
   "file_extension": ".py",
   "mimetype": "text/x-python",
   "name": "python",
   "nbconvert_exporter": "python",
   "pygments_lexer": "ipython3",
   "version": "3.8.8"
  }
 },
 "nbformat": 4,
 "nbformat_minor": 5
}
