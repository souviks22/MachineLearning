{
 "cells": [
  {
   "cell_type": "markdown",
   "id": "af644ea0",
   "metadata": {},
   "source": [
    "## Linear Regression"
   ]
  },
  {
   "cell_type": "code",
   "execution_count": 1,
   "id": "622c07cc",
   "metadata": {},
   "outputs": [],
   "source": [
    "import numpy as np\n",
    "import pandas as pd\n",
    "import matplotlib.pyplot as plt\n",
    "%matplotlib inline"
   ]
  },
  {
   "cell_type": "code",
   "execution_count": 2,
   "id": "5432956e",
   "metadata": {},
   "outputs": [],
   "source": [
    "df = pd.read_csv('ex1data.csv',names=['X','y'])"
   ]
  },
  {
   "cell_type": "code",
   "execution_count": 3,
   "id": "8787ec88",
   "metadata": {},
   "outputs": [
    {
     "data": {
      "text/html": [
       "<div>\n",
       "<style scoped>\n",
       "    .dataframe tbody tr th:only-of-type {\n",
       "        vertical-align: middle;\n",
       "    }\n",
       "\n",
       "    .dataframe tbody tr th {\n",
       "        vertical-align: top;\n",
       "    }\n",
       "\n",
       "    .dataframe thead th {\n",
       "        text-align: right;\n",
       "    }\n",
       "</style>\n",
       "<table border=\"1\" class=\"dataframe\">\n",
       "  <thead>\n",
       "    <tr style=\"text-align: right;\">\n",
       "      <th></th>\n",
       "      <th>X</th>\n",
       "      <th>y</th>\n",
       "    </tr>\n",
       "  </thead>\n",
       "  <tbody>\n",
       "    <tr>\n",
       "      <th>0</th>\n",
       "      <td>6.1101</td>\n",
       "      <td>17.5920</td>\n",
       "    </tr>\n",
       "    <tr>\n",
       "      <th>1</th>\n",
       "      <td>5.5277</td>\n",
       "      <td>9.1302</td>\n",
       "    </tr>\n",
       "    <tr>\n",
       "      <th>2</th>\n",
       "      <td>8.5186</td>\n",
       "      <td>13.6620</td>\n",
       "    </tr>\n",
       "    <tr>\n",
       "      <th>3</th>\n",
       "      <td>7.0032</td>\n",
       "      <td>11.8540</td>\n",
       "    </tr>\n",
       "    <tr>\n",
       "      <th>4</th>\n",
       "      <td>5.8598</td>\n",
       "      <td>6.8233</td>\n",
       "    </tr>\n",
       "  </tbody>\n",
       "</table>\n",
       "</div>"
      ],
      "text/plain": [
       "        X        y\n",
       "0  6.1101  17.5920\n",
       "1  5.5277   9.1302\n",
       "2  8.5186  13.6620\n",
       "3  7.0032  11.8540\n",
       "4  5.8598   6.8233"
      ]
     },
     "execution_count": 3,
     "metadata": {},
     "output_type": "execute_result"
    }
   ],
   "source": [
    "df.head()"
   ]
  },
  {
   "cell_type": "code",
   "execution_count": 4,
   "id": "a266477c",
   "metadata": {},
   "outputs": [
    {
     "data": {
      "text/plain": [
       "Text(0, 0.5, 'y')"
      ]
     },
     "execution_count": 4,
     "metadata": {},
     "output_type": "execute_result"
    },
    {
     "data": {
      "image/png": "[encoded data removed]",
      "text/plain": [
       "<Figure size 432x288 with 1 Axes>"
      ]
     },
     "metadata": {
      "needs_background": "light"
     },
     "output_type": "display_data"
    }
   ],
   "source": [
    "plt.scatter(df['X'],df['y'])\n",
    "plt.xlabel('X')\n",
    "plt.ylabel('y')"
   ]
  },
  {
   "cell_type": "code",
   "execution_count": 5,
   "id": "157a2514",
   "metadata": {},
   "outputs": [],
   "source": [
    "X_bar = np.mean(df['X'])\n",
    "y_bar = np.mean(df['y'])"
   ]
  },
  {
   "cell_type": "code",
   "execution_count": 6,
   "id": "788b9c94",
   "metadata": {},
   "outputs": [],
   "source": [
    "cov_Xy = np.mean(df['X']*df['y']) - X_bar*y_bar"
   ]
  },
  {
   "cell_type": "code",
   "execution_count": 7,
   "id": "c7531ee8",
   "metadata": {},
   "outputs": [],
   "source": [
    "var_X = np.mean(df['X']**2) - X_bar**2"
   ]
  },
  {
   "cell_type": "code",
   "execution_count": 8,
   "id": "2aabe853",
   "metadata": {},
   "outputs": [],
   "source": [
    "b_yX = cov_Xy/var_X"
   ]
  },
  {
   "cell_type": "code",
   "execution_count": 9,
   "id": "d9091d8a",
   "metadata": {},
   "outputs": [],
   "source": [
    "predictions = y_bar + b_yX*(df['X'] - X_bar)"
   ]
  },
  {
   "cell_type": "code",
   "execution_count": 10,
   "id": "8ad413f6",
   "metadata": {},
   "outputs": [
    {
     "data": {
      "text/plain": [
       "Text(0, 0.5, 'y')"
      ]
     },
     "execution_count": 10,
     "metadata": {},
     "output_type": "execute_result"
    },
    {
     "data": {
      "image/png": "[encoded data removed]",
      "text/plain": [
       "<Figure size 432x288 with 1 Axes>"
      ]
     },
     "metadata": {
      "needs_background": "light"
     },
     "output_type": "display_data"
    }
   ],
   "source": [
    "plt.scatter(df['X'],df['y'])\n",
    "plt.plot([min(df['X']),max(df['X'])],[min(predictions),max(predictions)],'red')\n",
    "plt.xlabel('X')\n",
    "plt.ylabel('y')"
   ]
  },
  {
   "cell_type": "markdown",
   "id": "44bbec9a",
   "metadata": {},
   "source": [
    "## Gradient Descent"
   ]
  },
  {
   "cell_type": "code",
   "execution_count": 11,
   "id": "e6c0c686",
   "metadata": {},
   "outputs": [],
   "source": [
    "X = np.linspace(0,100,20)\n",
    "y = (X - 4)**2 + 5"
   ]
  },
  {
   "cell_type": "code",
   "execution_count": 12,
   "id": "16b59669",
   "metadata": {},
   "outputs": [
    {
     "data": {
      "text/plain": [
       "Text(0, 0.5, 'y')"
      ]
     },
     "execution_count": 12,
     "metadata": {},
     "output_type": "execute_result"
    },
    {
     "data": {
      "image/png": "[encoded data removed]",
      "text/plain": [
       "<Figure size 432x288 with 1 Axes>"
      ]
     },
     "metadata": {
      "needs_background": "light"
     },
     "output_type": "display_data"
    }
   ],
   "source": [
    "plt.scatter(X,y)\n",
    "plt.xlabel('X')\n",
    "plt.ylabel('y')"
   ]
  },
  {
   "cell_type": "code",
   "execution_count": 13,
   "id": "2ec0b8d7",
   "metadata": {},
   "outputs": [],
   "source": [
    "def gradient_descent(X,y,iterations,alpha):\n",
    "    theta = np.array([0.1,0.01])\n",
    "    X = np.array([[i,1] for i in X])\n",
    "    costs = []\n",
    "    for i in range(iterations):\n",
    "        predictions = X.dot(theta)\n",
    "        loss = y - predictions\n",
    "        gradient = X.T.dot(loss)*(-2/float(len(X)))\n",
    "        theta = theta - gradient*alpha\n",
    "        costs.append(np.mean(loss**2))\n",
    "    return theta,costs"
   ]
  },
  {
   "cell_type": "code",
   "execution_count": 14,
   "id": "fcf6c7ce",
   "metadata": {},
   "outputs": [],
   "source": [
    "theta,costs = gradient_descent(X,y,iterations=1000,alpha=0.0001)"
   ]
  },
  {
   "cell_type": "code",
   "execution_count": 15,
   "id": "c5b81dda",
   "metadata": {
    "scrolled": true
   },
   "outputs": [
    {
     "name": "stdout",
     "output_type": "stream",
     "text": [
      "[17676046.83726577, 2956607.398012496, 1490035.9479113955, 1343856.994202416, 1329229.6735005232, 1327708.9406581675, 1327494.0331402812, 1327409.2327366685, 1327337.4018205474, 1327266.8698876516]\n"
     ]
    }
   ],
   "source": [
    "print(costs[:10])"
   ]
  },
  {
   "cell_type": "code",
   "execution_count": 16,
   "id": "cc672a72",
   "metadata": {},
   "outputs": [
    {
     "name": "stdout",
     "output_type": "stream",
     "text": [
      "[ 70.40760689 -80.68934497]\n"
     ]
    }
   ],
   "source": [
    "print(theta)"
   ]
  },
  {
   "cell_type": "code",
   "execution_count": 17,
   "id": "e860a143",
   "metadata": {},
   "outputs": [],
   "source": [
    "weight,bias = theta\n",
    "predictions = X*weight + bias"
   ]
  },
  {
   "cell_type": "code",
   "execution_count": 18,
   "id": "e4eea676",
   "metadata": {},
   "outputs": [
    {
     "data": {
      "text/plain": [
       "[<matplotlib.lines.Line2D at 0x2935b1c6ca0>]"
      ]
     },
     "execution_count": 18,
     "metadata": {},
     "output_type": "execute_result"
    },
    {
     "data": {
      "image/png": "[encoded data removed]",
      "text/plain": [
       "<Figure size 432x288 with 1 Axes>"
      ]
     },
     "metadata": {
      "needs_background": "light"
     },
     "output_type": "display_data"
    }
   ],
   "source": [
    "plt.scatter(X,y)\n",
    "plt.plot([min(X),max(X)],[min(predictions),max(predictions)],'red')"
   ]
  },
  {
   "cell_type": "markdown",
   "id": "f5094fd3",
   "metadata": {},
   "source": [
    "## RMSE and R$^2$"
   ]
  },
  {
   "cell_type": "code",
   "execution_count": 19,
   "id": "fe1664c9",
   "metadata": {},
   "outputs": [],
   "source": [
    "df = pd.read_csv('headbrain.csv')"
   ]
  },
  {
   "cell_type": "code",
   "execution_count": 20,
   "id": "c094b23a",
   "metadata": {},
   "outputs": [
    {
     "data": {
      "text/html": [
       "<div>\n",
       "<style scoped>\n",
       "    .dataframe tbody tr th:only-of-type {\n",
       "        vertical-align: middle;\n",
       "    }\n",
       "\n",
       "    .dataframe tbody tr th {\n",
       "        vertical-align: top;\n",
       "    }\n",
       "\n",
       "    .dataframe thead th {\n",
       "        text-align: right;\n",
       "    }\n",
       "</style>\n",
       "<table border=\"1\" class=\"dataframe\">\n",
       "  <thead>\n",
       "    <tr style=\"text-align: right;\">\n",
       "      <th></th>\n",
       "      <th>Gender</th>\n",
       "      <th>Age Range</th>\n",
       "      <th>Head Size(cm^3)</th>\n",
       "      <th>Brain Weight(grams)</th>\n",
       "    </tr>\n",
       "  </thead>\n",
       "  <tbody>\n",
       "    <tr>\n",
       "      <th>0</th>\n",
       "      <td>1</td>\n",
       "      <td>1</td>\n",
       "      <td>4512</td>\n",
       "      <td>1530</td>\n",
       "    </tr>\n",
       "    <tr>\n",
       "      <th>1</th>\n",
       "      <td>1</td>\n",
       "      <td>1</td>\n",
       "      <td>3738</td>\n",
       "      <td>1297</td>\n",
       "    </tr>\n",
       "    <tr>\n",
       "      <th>2</th>\n",
       "      <td>1</td>\n",
       "      <td>1</td>\n",
       "      <td>4261</td>\n",
       "      <td>1335</td>\n",
       "    </tr>\n",
       "    <tr>\n",
       "      <th>3</th>\n",
       "      <td>1</td>\n",
       "      <td>1</td>\n",
       "      <td>3777</td>\n",
       "      <td>1282</td>\n",
       "    </tr>\n",
       "    <tr>\n",
       "      <th>4</th>\n",
       "      <td>1</td>\n",
       "      <td>1</td>\n",
       "      <td>4177</td>\n",
       "      <td>1590</td>\n",
       "    </tr>\n",
       "  </tbody>\n",
       "</table>\n",
       "</div>"
      ],
      "text/plain": [
       "   Gender  Age Range  Head Size(cm^3)  Brain Weight(grams)\n",
       "0       1          1             4512                 1530\n",
       "1       1          1             3738                 1297\n",
       "2       1          1             4261                 1335\n",
       "3       1          1             3777                 1282\n",
       "4       1          1             4177                 1590"
      ]
     },
     "execution_count": 20,
     "metadata": {},
     "output_type": "execute_result"
    }
   ],
   "source": [
    "df.head()"
   ]
  },
  {
   "cell_type": "code",
   "execution_count": 21,
   "id": "730b89f5",
   "metadata": {},
   "outputs": [],
   "source": [
    "X = df['Head Size(cm^3)']\n",
    "y = df['Brain Weight(grams)']"
   ]
  },
  {
   "cell_type": "code",
   "execution_count": 22,
   "id": "0a57aba9",
   "metadata": {},
   "outputs": [],
   "source": [
    "X_bar = np.mean(X)\n",
    "y_bar = np.mean(y)"
   ]
  },
  {
   "cell_type": "code",
   "execution_count": 23,
   "id": "3f35fb75",
   "metadata": {},
   "outputs": [],
   "source": [
    "cov_Xy = np.mean(X*y) - X_bar*y_bar\n",
    "var_X = np.mean(X**2) - X_bar**2"
   ]
  },
  {
   "cell_type": "code",
   "execution_count": 24,
   "id": "45bc1e57",
   "metadata": {},
   "outputs": [],
   "source": [
    "m = cov_Xy/var_X"
   ]
  },
  {
   "cell_type": "code",
   "execution_count": 25,
   "id": "b483afc8",
   "metadata": {},
   "outputs": [],
   "source": [
    "c = y_bar - m*X_bar"
   ]
  },
  {
   "cell_type": "code",
   "execution_count": 26,
   "id": "d4d0f72d",
   "metadata": {},
   "outputs": [
    {
     "name": "stdout",
     "output_type": "stream",
     "text": [
      "0.2634293394893941 325.57342104946156\n"
     ]
    }
   ],
   "source": [
    "print(m,c)"
   ]
  },
  {
   "cell_type": "code",
   "execution_count": 27,
   "id": "8957e2b7",
   "metadata": {},
   "outputs": [],
   "source": [
    "predictions = m*X + c"
   ]
  },
  {
   "cell_type": "code",
   "execution_count": 28,
   "id": "727c3399",
   "metadata": {},
   "outputs": [
    {
     "data": {
      "text/plain": [
       "Text(0, 0.5, 'Brain Weight(grams)')"
      ]
     },
     "execution_count": 28,
     "metadata": {},
     "output_type": "execute_result"
    },
    {
     "data": {
      "image/png": "[encoded data removed]",
      "text/plain": [
       "<Figure size 432x288 with 1 Axes>"
      ]
     },
     "metadata": {
      "needs_background": "light"
     },
     "output_type": "display_data"
    }
   ],
   "source": [
    "plt.scatter(X,y)\n",
    "plt.plot([min(X),max(X)],[min(predictions),max(predictions)],'red')\n",
    "plt.xlabel('Head Size(cm^3)')\n",
    "plt.ylabel('Brain Weight(grams)')"
   ]
  },
  {
   "cell_type": "code",
   "execution_count": 29,
   "id": "ef318729",
   "metadata": {},
   "outputs": [],
   "source": [
    "rmse = np.sqrt(np.mean((y-predictions)**2))"
   ]
  },
  {
   "cell_type": "code",
   "execution_count": 30,
   "id": "b6db3082",
   "metadata": {},
   "outputs": [
    {
     "name": "stdout",
     "output_type": "stream",
     "text": [
      "72.12062137837094\n"
     ]
    }
   ],
   "source": [
    "print(rmse)"
   ]
  },
  {
   "cell_type": "code",
   "execution_count": 31,
   "id": "f697d1b9",
   "metadata": {},
   "outputs": [],
   "source": [
    "r2 = sum((predictions-y_bar)**2)/sum((y-y_bar)**2)"
   ]
  },
  {
   "cell_type": "code",
   "execution_count": 32,
   "id": "9d4e53e7",
   "metadata": {},
   "outputs": [
    {
     "name": "stdout",
     "output_type": "stream",
     "text": [
      "0.6393117199569744\n"
     ]
    }
   ],
   "source": [
    "print(r2)"
   ]
  },
  {
   "cell_type": "code",
   "execution_count": null,
   "id": "90d31d08",
   "metadata": {},
   "outputs": [],
   "source": []
  }
 ],
 "metadata": {
  "kernelspec": {
   "display_name": "Python 3",
   "language": "python",
   "name": "python3"
  },
  "language_info": {
   "codemirror_mode": {
    "name": "ipython",
    "version": 3
   },
   "file_extension": ".py",
   "mimetype": "text/x-python",
   "name": "python",
   "nbconvert_exporter": "python",
   "pygments_lexer": "ipython3",
   "version": "3.8.8"
  }
 },
 "nbformat": 4,
 "nbformat_minor": 5
}
