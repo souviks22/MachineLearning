{
 "cells": [
  {
   "cell_type": "code",
   "execution_count": 44,
   "id": "156ada92",
   "metadata": {},
   "outputs": [],
   "source": [
    "import numpy as np"
   ]
  },
  {
   "cell_type": "code",
   "execution_count": 45,
   "id": "0d07e874",
   "metadata": {},
   "outputs": [],
   "source": [
    "inputs = np.array([\n",
    "    [0,0],\n",
    "    [0,1],\n",
    "    [1,0],\n",
    "    [1,1]\n",
    "])"
   ]
  },
  {
   "cell_type": "code",
   "execution_count": 46,
   "id": "bd9a1d6e",
   "metadata": {},
   "outputs": [],
   "source": [
    "def activate(dot,thresh):\n",
    "    return np.array(list(map(int,dot>=thresh)))"
   ]
  },
  {
   "cell_type": "markdown",
   "id": "8013d40a",
   "metadata": {},
   "source": [
    "## AND"
   ]
  },
  {
   "cell_type": "code",
   "execution_count": 47,
   "id": "edf28ad4",
   "metadata": {},
   "outputs": [],
   "source": [
    "weights = np.array([1,1])"
   ]
  },
  {
   "cell_type": "code",
   "execution_count": 48,
   "id": "fb053fd9",
   "metadata": {},
   "outputs": [],
   "source": [
    "dot = inputs.dot(weights)"
   ]
  },
  {
   "cell_type": "code",
   "execution_count": 49,
   "id": "0f929ad2",
   "metadata": {},
   "outputs": [],
   "source": [
    "outputs = activate(dot,2)"
   ]
  },
  {
   "cell_type": "code",
   "execution_count": 50,
   "id": "3fd03b2b",
   "metadata": {},
   "outputs": [
    {
     "name": "stdout",
     "output_type": "stream",
     "text": [
      "[0 0 0 1]\n"
     ]
    }
   ],
   "source": [
    "print(outputs)"
   ]
  },
  {
   "cell_type": "markdown",
   "id": "a8129513",
   "metadata": {},
   "source": [
    "## OR"
   ]
  },
  {
   "cell_type": "code",
   "execution_count": 51,
   "id": "e923f6fa",
   "metadata": {},
   "outputs": [],
   "source": [
    "weights = np.array([1,1])"
   ]
  },
  {
   "cell_type": "code",
   "execution_count": 52,
   "id": "11609485",
   "metadata": {},
   "outputs": [],
   "source": [
    "dot = inputs.dot(weights)"
   ]
  },
  {
   "cell_type": "code",
   "execution_count": 53,
   "id": "b732990f",
   "metadata": {},
   "outputs": [],
   "source": [
    "outputs = activate(dot,1)"
   ]
  },
  {
   "cell_type": "code",
   "execution_count": 54,
   "id": "df83cd0c",
   "metadata": {},
   "outputs": [
    {
     "name": "stdout",
     "output_type": "stream",
     "text": [
      "[0 1 1 1]\n"
     ]
    }
   ],
   "source": [
    "print(outputs)"
   ]
  },
  {
   "cell_type": "markdown",
   "id": "30ff23ec",
   "metadata": {},
   "source": [
    "## NAND"
   ]
  },
  {
   "cell_type": "code",
   "execution_count": 55,
   "id": "7685cb9b",
   "metadata": {},
   "outputs": [],
   "source": [
    "weights = np.array([-1,-1])"
   ]
  },
  {
   "cell_type": "code",
   "execution_count": 56,
   "id": "ed539c06",
   "metadata": {},
   "outputs": [],
   "source": [
    "dot = inputs.dot(weights)"
   ]
  },
  {
   "cell_type": "code",
   "execution_count": 57,
   "id": "aba67e56",
   "metadata": {},
   "outputs": [],
   "source": [
    "outputs = activate(dot,-1)"
   ]
  },
  {
   "cell_type": "code",
   "execution_count": 58,
   "id": "05f5b856",
   "metadata": {},
   "outputs": [
    {
     "name": "stdout",
     "output_type": "stream",
     "text": [
      "[1 1 1 0]\n"
     ]
    }
   ],
   "source": [
    "print(outputs)"
   ]
  },
  {
   "cell_type": "markdown",
   "id": "5f50f5a2",
   "metadata": {},
   "source": [
    "## NOR"
   ]
  },
  {
   "cell_type": "code",
   "execution_count": 59,
   "id": "5a86cd84",
   "metadata": {},
   "outputs": [],
   "source": [
    "weights = np.array([-1,-1])"
   ]
  },
  {
   "cell_type": "code",
   "execution_count": 60,
   "id": "01536cd6",
   "metadata": {},
   "outputs": [],
   "source": [
    "dot = inputs.dot(weights)"
   ]
  },
  {
   "cell_type": "code",
   "execution_count": 61,
   "id": "fc0ab422",
   "metadata": {},
   "outputs": [],
   "source": [
    "outputs = activate(dot,0)"
   ]
  },
  {
   "cell_type": "code",
   "execution_count": 62,
   "id": "e086ad30",
   "metadata": {},
   "outputs": [
    {
     "name": "stdout",
     "output_type": "stream",
     "text": [
      "[1 0 0 0]\n"
     ]
    }
   ],
   "source": [
    "print(outputs)"
   ]
  },
  {
   "cell_type": "code",
   "execution_count": null,
   "id": "9ae34269",
   "metadata": {},
   "outputs": [],
   "source": []
  }
 ],
 "metadata": {
  "kernelspec": {
   "display_name": "Python 3",
   "language": "python",
   "name": "python3"
  },
  "language_info": {
   "codemirror_mode": {
    "name": "ipython",
    "version": 3
   },
   "file_extension": ".py",
   "mimetype": "text/x-python",
   "name": "python",
   "nbconvert_exporter": "python",
   "pygments_lexer": "ipython3",
   "version": "3.8.8"
  }
 },
 "nbformat": 4,
 "nbformat_minor": 5
}
